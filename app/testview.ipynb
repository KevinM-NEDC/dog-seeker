{
 "cells": [
  {
   "cell_type": "code",
   "execution_count": 33,
   "metadata": {
    "collapsed": false
   },
   "outputs": [
    {
     "name": "stderr",
     "output_type": "stream",
     "text": [
      "Downloading: \"https://github.com/ultralytics/yolov5/archive/master.zip\" to /projects/375a9615-5617-48b6-a132-fe9d08f3c36b/.cache/torch/hub/master.zip\n"
     ]
    },
    {
     "name": "stderr",
     "output_type": "stream",
     "text": [
      "YOLOv5 🚀 2022-7-14 Python-3.8.13 torch-1.11.0+cu102 CPU\n",
      "\n"
     ]
    },
    {
     "name": "stderr",
     "output_type": "stream",
     "text": [
      "Fusing layers... \n"
     ]
    },
    {
     "name": "stderr",
     "output_type": "stream",
     "text": [
      "Model summary: 213 layers, 7045186 parameters, 0 gradients, 15.9 GFLOPs\n"
     ]
    },
    {
     "name": "stderr",
     "output_type": "stream",
     "text": [
      "Adding AutoShape... \n"
     ]
    }
   ],
   "source": [
    "import torch\n",
    "import os\n",
    "import cv2\n",
    "import os\n",
    "import matplotlib.pyplot as plt\n",
    "import json\n",
    "import pandas as pd\n",
    "import os\n",
    "import torch\n",
    "model = torch.hub.load(\"ultralytics/yolov5\", \"custom\", path = 'best4.pt', force_reload=True)\n",
    "UPLOAD_FOLDER = 'static/uploads'"
   ]
  },
  {
   "cell_type": "code",
   "execution_count": 34,
   "metadata": {
    "collapsed": false
   },
   "outputs": [
   ],
   "source": [
    "results = model(\"/projects/375a9615-5617-48b6-a132-fe9d08f3c36b/somethingmoreinformationalaboutwhatitis/app/static/images/akita6.jpg\", size=416)"
   ]
  },
  {
   "cell_type": "code",
   "execution_count": 67,
   "metadata": {
    "collapsed": false
   },
   "outputs": [
    {
     "data": {
      "text/plain": [
       "'Shibu Inu'"
      ]
     },
     "execution_count": 67,
     "metadata": {
     },
     "output_type": "execute_result"
    }
   ],
   "source": [
    "(results.pandas().xyxy[0]['name']).values[0] #need to grab the name key, not actual dog name\n",
    "dog_Name= (results.pandas().xyxy[0]['name']).values\n",
    "dog_Name[0]\n",
    "dog_Name_No_Reps=[]\n",
    "for i in dog_Name:\n",
    "    if i not in dog_Name_No_Reps:\n",
    "        dog_Name_No_Reps.append(i)\n",
    "\n",
    "dog_Name = dog_Name_No_Reps        \n",
    "\n",
    "'''\n",
    "dog_Info_list = []\n",
    "for i in dog_Name\n",
    "'''"
   ]
  },
  {
   "cell_type": "code",
   "execution_count": 40,
   "metadata": {
    "collapsed": false
   },
   "outputs": [
    {
     "data": {
      "text/plain": [
       "'sad'"
      ]
     },
     "execution_count": 40,
     "metadata": {
     },
     "output_type": "execute_result"
    }
   ],
   "source": [
    "dummy_json = pd.read_json('File-1.json').to_dict()\n",
    "dummy_json[dog_Name]['Personality']"
   ]
  },
  {
   "cell_type": "code",
   "execution_count": 38,
   "metadata": {
    "collapsed": false,
    "scrolled": true
   },
   "outputs": [
    {
     "data": {
      "text/plain": [
       "'not here'"
      ]
     },
     "execution_count": 38,
     "metadata": {
     },
     "output_type": "execute_result"
    }
   ],
   "source": [
    "dic = {'alex':'here','kevin':'not here'}\n",
    "dic['kevin']"
   ]
  },
  {
   "cell_type": "code",
   "execution_count": 60,
   "metadata": {
    "collapsed": false
   },
   "outputs": [
   ],
   "source": [
    "\n",
    "\n",
    "from werkzeug.utils import secure_filename\n",
    "from url_utils import get_base_url\n",
    "import os\n",
    "import torch\n",
    "import json\n",
    "import pandas as pd"
   ]
  },
  {
   "cell_type": "code",
   "execution_count": 62,
   "metadata": {
    "collapsed": false
   },
   "outputs": [
    {
     "ename": "NameError",
     "evalue": "name 'and_syntax' is not defined",
     "output_type": "error",
     "traceback": [
      "\u001b[0;31m---------------------------------------------------------------------------\u001b[0m",
      "\u001b[0;31mNameError\u001b[0m                                 Traceback (most recent call last)",
      "Input \u001b[0;32mIn [62]\u001b[0m, in \u001b[0;36m<cell line: 3>\u001b[0;34m()\u001b[0m\n\u001b[1;32m      1\u001b[0m labels \u001b[38;5;241m=\u001b[39m (results\u001b[38;5;241m.\u001b[39mpandas()\u001b[38;5;241m.\u001b[39mxyxy[\u001b[38;5;241m0\u001b[39m][\u001b[38;5;124m'\u001b[39m\u001b[38;5;124mname\u001b[39m\u001b[38;5;124m'\u001b[39m]\u001b[38;5;241m.\u001b[39mvalues[\u001b[38;5;241m0\u001b[39m])\n\u001b[1;32m      2\u001b[0m labels \u001b[38;5;241m=\u001b[39m [emotion\u001b[38;5;241m.\u001b[39mcapitalize() \u001b[38;5;28;01mfor\u001b[39;00m emotion \u001b[38;5;129;01min\u001b[39;00m labels]\n\u001b[0;32m----> 3\u001b[0m labels \u001b[38;5;241m=\u001b[39m \u001b[43mand_syntax\u001b[49m(labels)\n",
      "\u001b[0;31mNameError\u001b[0m: name 'and_syntax' is not defined"
     ]
    }
   ],
   "source": [
   ]
  },
  {
   "cell_type": "code",
   "execution_count": 35,
   "metadata": {
    "collapsed": false
   },
   "outputs": [
    {
     "ename": "TypeError",
     "evalue": "'list' object is not callable",
     "output_type": "error",
     "traceback": [
      "\u001b[0;31m---------------------------------------------------------------------------\u001b[0m",
      "\u001b[0;31mTypeError\u001b[0m                                 Traceback (most recent call last)",
      "Input \u001b[0;32mIn [35]\u001b[0m, in \u001b[0;36m<cell line: 14>\u001b[0;34m()\u001b[0m\n\u001b[1;32m     12\u001b[0m     \u001b[38;5;28;01melse\u001b[39;00m:\n\u001b[1;32m     13\u001b[0m         \u001b[38;5;28;01mreturn\u001b[39;00m\n\u001b[0;32m---> 14\u001b[0m confidences \u001b[38;5;241m=\u001b[39m \u001b[38;5;28;43mlist\u001b[39;49m\u001b[43m(\u001b[49m\u001b[43mresults\u001b[49m\u001b[38;5;241;43m.\u001b[39;49m\u001b[43mpandas\u001b[49m\u001b[43m(\u001b[49m\u001b[43m)\u001b[49m\u001b[38;5;241;43m.\u001b[39;49m\u001b[43mxyxy\u001b[49m\u001b[43m[\u001b[49m\u001b[38;5;241;43m0\u001b[39;49m\u001b[43m]\u001b[49m\u001b[43m[\u001b[49m\u001b[38;5;124;43m'\u001b[39;49m\u001b[38;5;124;43mconfidence\u001b[39;49m\u001b[38;5;124;43m'\u001b[39;49m\u001b[43m]\u001b[49m\u001b[43m)\u001b[49m\n\u001b[1;32m     15\u001b[0m \u001b[38;5;66;03m# confidences: rounding and changing to percent, putting in function\u001b[39;00m\n\u001b[1;32m     16\u001b[0m format_confidences \u001b[38;5;241m=\u001b[39m []\n",
      "\u001b[0;31mTypeError\u001b[0m: 'list' object is not callable"
     ]
    }
   ],
   "source": [
    "def and_syntax(alist):\n",
    "    if len(alist) == 1:\n",
    "        alist = \"\".join(alist)\n",
    "        return alist\n",
    "    elif len(alist) == 2:\n",
    "        alist = \" and \".join(alist)\n",
    "        return alist\n",
    "    elif len(alist) > 2:\n",
    "        alist[-1] = \"and \" + alist[-1]\n",
    "        alist = \", \".join(alist)\n",
    "        return alist\n",
    "    else:\n",
    "        return\n",
    "confidences = list(results.pandas().xyxy[0]['confidence'])\n",
    "# confidences: rounding and changing to percent, putting in function\n",
    "format_confidences = []\n",
    "for percent in confidences:\n",
    "    format_confidences.append(str(round(percent*100)) + '%')\n",
    "format_confidences = and_syntax(format_confidences)\n",
    "\n",
    "labels = list(results.pandas().xyxy[0]['name'])\n",
    "#checks repeats\n",
    "label_reps=[]\n",
    "for i in labels:\n",
    "    if i not in label_reps:\n",
    "        label_reps.append(i)\n",
    "\n",
    "labels = label_reps\n",
    "\n",
    "for i in range(len(labels)): #renames to proper names\n",
    "    if labels[i] == 'Shibu Inu':\n",
    "        labels[i] = 'Shiba Inu'\n",
    "    elif labels[i] == \"Akita\":\n",
    "        labels[i] = \"Akita Inu\"\n",
    "dog_Names= labels\n",
    "\n",
    "\n",
    "\n",
    "#dog_Info= dummy_json[dog_Names]['Personality']\n",
    "#dog_desc= dummy_json[dog_Names]['Description']\n",
    "\n",
    "labels = and_syntax(labels)\n",
    "list_1=labels.split()\n",
    "list_1[0]='a'\n",
    "labels=\"\".join(labels)\n",
    "\n",
    "list_of_vowls = ['a','e','u', 'i', 'o']\n",
    "if any(x in list_of_vowls for x in list(labels[0])):\n",
    "    a_an= 'an'\n",
    "else:\n",
    "    a_an = 'a'\n",
    "# labels: sorting and capitalizing, putting into function\n",
    "print(labels)\n",
    "print(a_an)"
   ]
  },
  {
   "cell_type": "code",
   "execution_count": 30,
   "metadata": {
    "collapsed": false
   },
   "outputs": [
    {
     "name": "stdout",
     "output_type": "stream",
     "text": [
      "['a', 'Inu', 'and', 'Akita', 'Inu']\n"
     ]
    }
   ],
   "source": [
    "print(list)"
   ]
  },
  {
   "cell_type": "code",
   "execution_count": 32,
   "metadata": {
    "collapsed": false
   },
   "outputs": [
    {
     "ename": "TypeError",
     "evalue": "'list' object is not callable",
     "output_type": "error",
     "traceback": [
      "\u001b[0;31m---------------------------------------------------------------------------\u001b[0m",
      "\u001b[0;31mTypeError\u001b[0m                                 Traceback (most recent call last)",
      "Input \u001b[0;32mIn [32]\u001b[0m, in \u001b[0;36m<cell line: 1>\u001b[0;34m()\u001b[0m\n\u001b[0;32m----> 1\u001b[0m \u001b[38;5;28;43mlist\u001b[39;49m\u001b[43m(\u001b[49m\u001b[43m)\u001b[49m\n",
      "\u001b[0;31mTypeError\u001b[0m: 'list' object is not callable"
     ]
    }
   ],
   "source": [
    "list()"
   ]
  },
  {
   "cell_type": "code",
   "execution_count": 0,
   "metadata": {
    "collapsed": false
   },
   "outputs": [
   ],
   "source": [
    "list_of_vowls = ['a','e','u', 'i', 'o', 'A']\n",
    "def if_sentence_starts_with_vowl(sentence):\n",
    "    first_word = sentence[0]\n",
    "    if first_word in list_of_vowels"
   ]
  },
  {
   "cell_type": "code",
   "execution_count": 2,
   "metadata": {
    "collapsed": false
   },
   "outputs": [
    {
     "ename": "TypeError",
     "evalue": "unhashable type: 'list'",
     "output_type": "error",
     "traceback": [
      "\u001b[0;31m---------------------------------------------------------------------------\u001b[0m",
      "\u001b[0;31mTypeError\u001b[0m                                 Traceback (most recent call last)",
      "Input \u001b[0;32mIn [2]\u001b[0m, in \u001b[0;36m<cell line: 1>\u001b[0;34m()\u001b[0m\n\u001b[0;32m----> 1\u001b[0m dic \u001b[38;5;241m=\u001b[39m {[\u001b[38;5;124m'\u001b[39m\u001b[38;5;124ma\u001b[39m\u001b[38;5;124m'\u001b[39m,\u001b[38;5;124m'\u001b[39m\u001b[38;5;124mb\u001b[39m\u001b[38;5;124m'\u001b[39m]:\u001b[38;5;124m'\u001b[39m\u001b[38;5;124mhere\u001b[39m\u001b[38;5;124m'\u001b[39m}\n",
      "\u001b[0;31mTypeError\u001b[0m: unhashable type: 'list'"
     ]
    }
   ],
   "source": [
    "dic = {['a','b']:'here'}"
   ]
  },
  {
   "cell_type": "code",
   "execution_count": 21,
   "metadata": {
    "collapsed": false
   },
   "outputs": [
    {
     "name": "stdout",
     "output_type": "stream",
     "text": [
      "angry\n",
      "angry\n",
      "['angry', 'angry']\n"
     ]
    }
   ],
   "source": [
    "def loop_dictionary(dictionary, labels, key):\n",
    "    resultList = []\n",
    "    for label in labels:\n",
    "        resultList.append(dictionary[label][key])\n",
    "        print(dictionary[label][key])\n",
    "    return resultList\n",
    "dictio = {\n",
    "    \"dog\":\n",
    "    {\n",
    "        \"personality\":\"angry\",\n",
    "    },\n",
    "    \"cat\":\n",
    "    {\n",
    "        \"personality\":\"angry\",\n",
    "    },\n",
    "}\n",
    "labels = [\"dog\", \"cat\"]\n",
    "lis = loop_dictionary(dictio, labels, \"personality\")\n",
    "print(lis)"
   ]
  },
  {
   "cell_type": "code",
   "execution_count": 18,
   "metadata": {
    "collapsed": false
   },
   "outputs": [
   ],
   "source": [
    "here = os.getcwd()"
   ]
  },
  {
   "cell_type": "code",
   "execution_count": 19,
   "metadata": {
    "collapsed": false
   },
   "outputs": [
   ],
   "source": [
    "save_dir = os.path.join(here, 'static/uploads')"
   ]
  },
  {
   "cell_type": "code",
   "execution_count": 15,
   "metadata": {
    "collapsed": false
   },
   "outputs": [
    {
     "data": {
      "text/plain": [
       "'/projects/375a9615-5617-48b6-a132-fe9d08f3c36b/somethingmoreinformationalaboutwhatitis/app/static/uploads'"
      ]
     },
     "execution_count": 15,
     "metadata": {
     },
     "output_type": "execute_result"
    }
   ],
   "source": [
    "save_dir"
   ]
  },
  {
   "cell_type": "code",
   "execution_count": 16,
   "metadata": {
    "collapsed": false
   },
   "outputs": [
    {
     "name": "stderr",
     "output_type": "stream",
     "text": [
      "Saved 1 image to \u001b[1m/projects/375a9615-5617-48b6-a132-fe9d08f3c36b/somethingmoreinformationalaboutwhatitis/app/static/uploads\u001b[0m\n"
     ]
    }
   ],
   "source": [
    "results.save(save_dir=save_dir)"
   ]
  },
  {
   "cell_type": "code",
   "execution_count": 17,
   "metadata": {
    "collapsed": false,
    "scrolled": true
   },
   "outputs": [
    {
     "data": {
      "text/plain": [
       "<models.common.Detections at 0x7f7b7d173250>"
      ]
     },
     "execution_count": 17,
     "metadata": {
     },
     "output_type": "execute_result"
    }
   ],
   "source": [
    "results"
   ]
  },
  {
   "cell_type": "code",
   "execution_count": 0,
   "metadata": {
    "collapsed": false
   },
   "outputs": [
   ],
   "source": [
   ]
  },
  {
   "cell_type": "code",
   "execution_count": 0,
   "metadata": {
    "collapsed": false
   },
   "outputs": [
   ],
   "source": [
   ]
  }
 ],
 "metadata": {
  "kernelspec": {
   "display_name": "Python (cv_env)",
   "language": "python",
   "metadata": {
    "debugger": true
   },
   "name": "cv_env",
   "resource_dir": "/projects/375a9615-5617-48b6-a132-fe9d08f3c36b/.local/share/jupyter/kernels/cv_env"
  },
  "language_info": {
   "codemirror_mode": {
    "name": "ipython",
    "version": 3
   },
   "file_extension": ".py",
   "mimetype": "text/x-python",
   "name": "python",
   "nbconvert_exporter": "python",
   "pygments_lexer": "ipython3",
   "version": "3.8.13"
  }
 },
 "nbformat": 4,
 "nbformat_minor": 4
}